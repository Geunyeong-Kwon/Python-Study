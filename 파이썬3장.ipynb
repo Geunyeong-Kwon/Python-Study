{
  "nbformat": 4,
  "nbformat_minor": 0,
  "metadata": {
    "colab": {
      "provenance": [],
      "authorship_tag": "ABX9TyNwWlW3eEHHDpM9SBxuZd41",
      "include_colab_link": true
    },
    "kernelspec": {
      "name": "python3",
      "display_name": "Python 3"
    },
    "language_info": {
      "name": "python"
    }
  },
  "cells": [
    {
      "cell_type": "markdown",
      "metadata": {
        "id": "view-in-github",
        "colab_type": "text"
      },
      "source": [
        "<a href=\"https://colab.research.google.com/github/Geunyeong-Kwon/Python-Study/blob/main/%ED%8C%8C%EC%9D%B4%EC%8D%AC3%EC%9E%A5.ipynb\" target=\"_parent\"><img src=\"https://colab.research.google.com/assets/colab-badge.svg\" alt=\"Open In Colab\"/></a>"
      ]
    },
    {
      "cell_type": "code",
      "execution_count": 2,
      "metadata": {
        "colab": {
          "base_uri": "https://localhost:8080/"
        },
        "id": "N-jggZCe8dx6",
        "outputId": "2b154c0b-1c10-4a47-a431-01b3fe53223d"
      },
      "outputs": [
        {
          "output_type": "stream",
          "name": "stdout",
          "text": [
            "=======================\n",
            "a\n",
            "\n",
            "BlockDmask\n",
            "b\n",
            "c\n",
            "=======================\n",
            "c\n"
          ]
        }
      ],
      "source": [
        "#end  옵션: 마지막 문자열을 출력하고 그 다음에 출력할 문자, Default=개행(줄바꿈)\n",
        "#sep 옵션: 출력할 때 출력값들 사이에 넣어줄 구분자, Default=공백(띄어쓰기)\n",
        "\n",
        "print(\"=======================\")\n",
        "print('a')\n",
        "print() #다음줄 띄우기\n",
        "print('BlockDmask')\n",
        "print('b')\n",
        "print('c')\n",
        "print(\"=======================\")\n",
        "print('c')"
      ]
    },
    {
      "cell_type": "code",
      "source": [
        "#print 기본 예제\n",
        "print(123)\n",
        "print(\"Kim\")\n",
        "print('Park')\n",
        "\n",
        "a=2\n",
        "b=10\n",
        "print(\"a+b :\",a+b,'\\t',\"a-b :\",a-b)\n",
        "\n",
        "a=2.0\n",
        "b=10.0\n",
        "print(\"axb :\",a*b,'\\t',\"b/a :\",b/a)\n"
      ],
      "metadata": {
        "colab": {
          "base_uri": "https://localhost:8080/"
        },
        "id": "Qkn6CmPf9QKt",
        "outputId": "d3187c72-2cb5-4d16-eb86-0d8c617de47a"
      },
      "execution_count": 5,
      "outputs": [
        {
          "output_type": "stream",
          "name": "stdout",
          "text": [
            "123\n",
            "Kim\n",
            "Park\n",
            "a+b : 12 \t a-b : -8\n",
            "axb : 20.0 \t b/a : 5.0\n"
          ]
        }
      ]
    },
    {
      "cell_type": "code",
      "source": [],
      "metadata": {
        "id": "HaaTwRkw-CuU"
      },
      "execution_count": null,
      "outputs": []
    }
  ]
}