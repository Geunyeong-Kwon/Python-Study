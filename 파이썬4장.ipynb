{
  "nbformat": 4,
  "nbformat_minor": 0,
  "metadata": {
    "colab": {
      "provenance": [],
      "authorship_tag": "ABX9TyPBPJSADF/Xe49nnCjxuIky",
      "include_colab_link": true
    },
    "kernelspec": {
      "name": "python3",
      "display_name": "Python 3"
    },
    "language_info": {
      "name": "python"
    }
  },
  "cells": [
    {
      "cell_type": "markdown",
      "metadata": {
        "id": "view-in-github",
        "colab_type": "text"
      },
      "source": [
        "<a href=\"https://colab.research.google.com/github/Geunyeong-Kwon/Python-Study/blob/main/%ED%8C%8C%EC%9D%B4%EC%8D%AC4%EC%9E%A5.ipynb\" target=\"_parent\"><img src=\"https://colab.research.google.com/assets/colab-badge.svg\" alt=\"Open In Colab\"/></a>"
      ]
    },
    {
      "cell_type": "markdown",
      "source": [
        "#산술 연산자 종류\n",
        "- =(대입), +(더하기), -(빼기), ****(제곱), /(나누기), //(몫), %(나머지 값), ***(곱하기) \n",
        "- 뺄셈에서는 계산되는 순서(연산자 우선 순위)가 동일하므로 어떤 것을 먼저 계산하든 동일\n",
        "- 특별히 괄호 없을 때는 왼쪽에서 오른쪽 방향으로 계산"
      ],
      "metadata": {
        "id": "S8b7IfQnN7P5"
      }
    },
    {
      "cell_type": "markdown",
      "source": [
        "# 산술 연산자의 우선 순위\n",
        "- 덧셈(또는 뺄셈)과 곱셈(또는 나눗셈)이 같이 있으면 곱셈(또는 나눗셈)이 먼저 계산한 후 덧셈(또는 뺼셈)이 계산\n",
        "- 산술 연산자는 괄호가 가장 우선, 곱셈(또는 나눗셈)이 그 다음, 덧셈(또는 뺄셈)이 마지막\n",
        "- 덧셈(또는 뺄셈)끼리 있거나 곱셈(또는 나눗셈)끼리 있으면 왼쪽에서 오른쪽으로\n",
        "- 덧셈, 뺄셈, 곱셈, 나눗셈이 함꼐 나오면 연산자 우선순위 때문에 종종 혼란스럽게 느껴진다. 이때는 괄호를 사영하면 된다. 괄호를 사용하면 무조건 괄호가 우선 계싼\n"
      ],
      "metadata": {
        "id": "IPiJ6yfQO_0b"
      }
    },
    {
      "cell_type": "markdown",
      "source": [
        "#산술 연산을 하는 문자열과 숫자의 상호 변환\n",
        "- 문자열이 숫자로 구성되어 있을 떄, int() 또는 float() 함수 사용해서 정수나 실수로 변환\n",
        "- 문자열을 int()함수가 정수로, float()함수가 실수로 변경\n",
        "- 숫자를 문자열로 변환하려면 str() 함수 사용"
      ],
      "metadata": {
        "id": "165sHJsLPvkF"
      }
    },
    {
      "cell_type": "markdown",
      "source": [
        "#산술 연산자와 대입 연산자\n",
        "- 대입 연산자 = 이외에도 +=, -=, *=, /=, %=, //=, **= 사용\n",
        "- 파이썬에는 C/C++, 자바 등의 언어에 있는 증가 연산자 ++나 감소 연산자 --가 없음\n"
      ],
      "metadata": {
        "id": "oqjiw-T8QRDG"
      }
    },
    {
      "cell_type": "markdown",
      "source": [
        "#관계 연산자의 개념\n",
        "- 어떤 것이 크거나 작거나 같은지 비교하는 것(참은 True로, 거짓은 False로 표시)\n",
        "- 주로 조건문(if)나 반복문(while)에서 사용, 단독으로는 거의 사용하지 않음\n"
      ],
      "metadata": {
        "id": "u-bax3d_QpC9"
      }
    },
    {
      "cell_type": "markdown",
      "source": [
        "#논리 연산자의 종류와 사용\n",
        "- and(그리고), or(또는), not(부정) 세 종류"
      ],
      "metadata": {
        "id": "UZb7X_8tQ9Fl"
      }
    },
    {
      "cell_type": "markdown",
      "source": [
        "#비트 연산자의 개념\n",
        "- 정수를 2진수로 변환한 후 각 자리의 비트끼리 연산 수행\n",
        "- 비트 연산자 종류: &, |, ^, ~, <<, >>\n",
        "- 두 수의 자릿수가 다를 때는 빈 자리에 0을 채운 후 비트 논리곱 연산\n",
        "- 0과 비트 논리곱을 수행하면 어떤 숫자든 문조건 0가 된다."
      ],
      "metadata": {
        "id": "bmhq7XjERHZD"
      }
    },
    {
      "cell_type": "markdown",
      "source": [
        "#비트 논리곱과 비트 논리합 연산자\n",
        "- and는 그 결과가 참(True) 또는 거짓(Flase), &는 비트 논리곱을 수행한 결과가 나옴\n",
        "- 비트 연산은 0과 1밖에 없으므로 0은 False, 1은 True\n",
        "- ord()함수: 특정한 한 문자를 아스키 코드 값으로 변환해 주는 함수\n",
        "- chr()함수: 아스키 코드 값을 문자로 변환해 주는 함수(10진수, 16진수 사용 가능)"
      ],
      "metadata": {
        "id": "slJXfjejSkCf"
      }
    },
    {
      "cell_type": "markdown",
      "source": [],
      "metadata": {
        "id": "_v9yxEtdUIM_"
      }
    },
    {
      "cell_type": "markdown",
      "source": [],
      "metadata": {
        "id": "JaOD37P_TTZ6"
      }
    }
  ]
}