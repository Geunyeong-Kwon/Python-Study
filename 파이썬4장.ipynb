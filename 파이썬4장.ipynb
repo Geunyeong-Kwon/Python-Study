{
  "nbformat": 4,
  "nbformat_minor": 0,
  "metadata": {
    "colab": {
      "provenance": [],
      "authorship_tag": "ABX9TyNlUbwu9G50mAzHCtf2Cwor",
      "include_colab_link": true
    },
    "kernelspec": {
      "name": "python3",
      "display_name": "Python 3"
    },
    "language_info": {
      "name": "python"
    }
  },
  "cells": [
    {
      "cell_type": "markdown",
      "metadata": {
        "id": "view-in-github",
        "colab_type": "text"
      },
      "source": [
        "<a href=\"https://colab.research.google.com/github/Geunyeong-Kwon/Python-Study/blob/main/%ED%8C%8C%EC%9D%B4%EC%8D%AC4%EC%9E%A5.ipynb\" target=\"_parent\"><img src=\"https://colab.research.google.com/assets/colab-badge.svg\" alt=\"Open In Colab\"/></a>"
      ]
    },
    {
      "cell_type": "markdown",
      "source": [
        "#산술 연산자 종류\n",
        "- =(대입), +(더하기), -(빼기), ****(제곱), /(나누기), //(몫), %(나머지 값), ***(곱하기) \n",
        "- 뺄셈에서는 계산되는 순서(연산자 우선 순위)가 동일하므로 어떤 것을 먼저 계산하든 동일\n",
        "- 특별히 괄호 없을 때는 왼쪽에서 오른쪽 방향으로 계산"
      ],
      "metadata": {
        "id": "S8b7IfQnN7P5"
      }
    },
    {
      "cell_type": "markdown",
      "source": [
        "# 산술 연산자의 우선 순위\n",
        "- 덧셈(또는 뺄셈)과 곱셈(또는 나눗셈)이 같이 있으면 곱셈(또는 나눗셈)이 먼저 계산한 후 덧셈(또는 뺼셈)이 계산\n",
        "- 산술 연산자는 괄호가 가장 우선, 곱셈(또는 나눗셈)이 그 다음, 덧셈(또는 뺄셈)이 마지막\n",
        "- 덧셈(또는 뺄셈)끼리 있거나 곱셈(또는 나눗셈)끼리 있으면 왼쪽에서 오른쪽으로\n",
        "- 덧셈, 뺄셈, 곱셈, 나눗셈이 함꼐 나오면 연산자 우선순위 때문에 종종 혼란스럽게 느껴진다. 이때는 괄호를 사영하면 된다. 괄호를 사용하면 무조건 괄호가 우선 계싼\n"
      ],
      "metadata": {
        "id": "IPiJ6yfQO_0b"
      }
    },
    {
      "cell_type": "markdown",
      "source": [
        "#산술 연산을 하는 문자열과 숫자의 상호 변환\n",
        "- 문자열이 숫자로 구성되어 있을 떄, int() 또는 float() 함수 사용해서 정수나 실수로 변환\n",
        "- 문자열을 int()함수가 정수로, float()함수가 실수로 변경\n",
        "- 숫자를 문자열로 변환하려면 str() 함수 사용"
      ],
      "metadata": {
        "id": "165sHJsLPvkF"
      }
    },
    {
      "cell_type": "markdown",
      "source": [
        "#산술 연산자와 대입 연산자\n",
        "- 대입 연산자 = 이외에도 +=, -=, *=, /=, %=, //=, **= 사용\n",
        "- 파이썬에는 C/C++, 자바 등의 언어에 있는 증가 연산자 ++나 감소 연산자 --가 없음\n"
      ],
      "metadata": {
        "id": "oqjiw-T8QRDG"
      }
    },
    {
      "cell_type": "markdown",
      "source": [
        "#관계 연산자의 개념\n",
        "- 어떤 것이 크거나 작거나 같은지 비교하는 것(참은 True로, 거짓은 False로 표시)\n",
        "- 주로 조건문(if)나 반복문(while)에서 사용, 단독으로는 거의 사용하지 않음\n"
      ],
      "metadata": {
        "id": "u-bax3d_QpC9"
      }
    },
    {
      "cell_type": "markdown",
      "source": [
        "#논리 연산자의 종류와 사용\n",
        "- and(그리고), or(또는), not(부정) 세 종류"
      ],
      "metadata": {
        "id": "UZb7X_8tQ9Fl"
      }
    },
    {
      "cell_type": "markdown",
      "source": [
        "#비트 연산자의 개념\n",
        "- 정수를 2진수로 변환한 후 각 자리의 비트끼리 연산 수행\n",
        "- 비트 연산자 종류: &, |, ^, ~, <<, >>\n",
        "- 두 수의 자릿수가 다를 때는 빈 자리에 0을 채운 후 비트 논리곱 연산\n",
        "- 0과 비트 논리곱을 수행하면 어떤 숫자든 문조건 0가 된다."
      ],
      "metadata": {
        "id": "bmhq7XjERHZD"
      }
    },
    {
      "cell_type": "markdown",
      "source": [
        "#비트 논리곱과 비트 논리합 연산자\n",
        "- and는 그 결과가 참(True) 또는 거짓(Flase), &는 비트 논리곱을 수행한 결과가 나옴\n",
        "- 비트 연산은 0과 1밖에 없으므로 0은 False, 1은 True\n",
        "- ord()함수: 특정한 한 문자를 아스키 코드 값으로 변환해 주는 함수\n",
        "- chr()함수: 아스키 코드 값을 문자로 변환해 주는 함수(10진수, 16진수 사용 가능)"
      ],
      "metadata": {
        "id": "slJXfjejSkCf"
      }
    },
    {
      "cell_type": "markdown",
      "source": [
        "#연산자 우선순위\n",
        "- 여러 개의 연산자가 있을 경우 정해진 순서\n",
        "- ** (지수 연산자)\n",
        "- ~, +, - (단항 연산자)\n",
        "- *, /, %, // (곱셈, 나눗셈, 나머지 연산자)\n",
        "- +, - (덧셈, 뺄셈)\n",
        "- << (비트 이동 연산자)\n",
        "- & (비트 AND 연산자)\n",
        "- ^, | (비트 XOR 연산자, 비트 OR 연산자)\n",
        "- <=, <, >, >= (비교 연산자)\n",
        "- ==, != (동등 연산자)\n",
        "- =, %=, /=, //=, -=, +=, *=, **= (할당 연산자, 복합 할당 연산자)\n",
        "- is, is not (아이덴티티 연산자)\n",
        "- in, not in (소속 연산자)\n",
        "- not, or, end (논리 연산자)"
      ],
      "metadata": {
        "id": "_v9yxEtdUIM_"
      }
    },
    {
      "cell_type": "markdown",
      "source": [
        "#map 함수\n",
        "- map(function, iterable)\n",
        "- 두 번째 인자로 들어온 반복 가능한 자료형(리스트나 튜플)을 첫 번째 인자로 들어온 함수에 하나씩 집어 넣어서 함수를 수행\n",
        "- iterable: 반복 가능한 객체(리스트, 튜플 등)"
      ],
      "metadata": {
        "id": "oB07jTDiW64D"
      }
    },
    {
      "cell_type": "markdown",
      "source": [
        "#random 모듈과 math 모듈\n",
        "- 난수와 관련한 함수르 제공하는 random 모듈과 수학 함수를 제공하는 math 모듈에 대하여 간단하게 설명한다.\n",
        "- math 모듈은 원주율 파이, 자연상수 e 등의 상수 값과 실수의 절대값 fabs(), ceil(), floor(), log(), sin(), cos() 등의 다양한 수학 함수를 포함하고 있으며 다음과 같이 사용할 수 있다.\n",
        "- random 모듈은 임의의 수를 생성하거나, 리스트나 튜플 내의 요소를 무작위로 섞거나, 선택하는 함수를 포함하고 있다. random 모듈에 포함되어 있는 대표적인 함수 몇 가지를 함께 알아보자."
      ],
      "metadata": {
        "id": "lVOe5WqVXTr_"
      }
    },
    {
      "cell_type": "code",
      "source": [
        "import math\n",
        "math.pow(3,3)"
      ],
      "metadata": {
        "colab": {
          "base_uri": "https://localhost:8080/"
        },
        "id": "QxbNkv9WX9FY",
        "outputId": "823835d5-fcb5-4c39-a5f7-88da73dc418d"
      },
      "execution_count": 1,
      "outputs": [
        {
          "output_type": "execute_result",
          "data": {
            "text/plain": [
              "1.0"
            ]
          },
          "metadata": {},
          "execution_count": 1
        }
      ]
    },
    {
      "cell_type": "markdown",
      "source": [],
      "metadata": {
        "id": "JaOD37P_TTZ6"
      }
    },
    {
      "cell_type": "code",
      "source": [
        "math.fabs(-99)"
      ],
      "metadata": {
        "colab": {
          "base_uri": "https://localhost:8080/"
        },
        "id": "pF9m0DcTYPla",
        "outputId": "1b4d172c-9254-4222-e99e-3dfedc72e655"
      },
      "execution_count": 2,
      "outputs": [
        {
          "output_type": "execute_result",
          "data": {
            "text/plain": [
              "99.0"
            ]
          },
          "metadata": {},
          "execution_count": 2
        }
      ]
    },
    {
      "cell_type": "code",
      "source": [
        "math.log(2.71828)"
      ],
      "metadata": {
        "colab": {
          "base_uri": "https://localhost:8080/"
        },
        "id": "0vvc0MpfYnJy",
        "outputId": "ce661a21-faa2-4ba1-a1a2-a9f5bba135ec"
      },
      "execution_count": 3,
      "outputs": [
        {
          "output_type": "execute_result",
          "data": {
            "text/plain": [
              "0.999999327347282"
            ]
          },
          "metadata": {},
          "execution_count": 3
        }
      ]
    },
    {
      "cell_type": "code",
      "source": [
        "math.log(100,10)"
      ],
      "metadata": {
        "colab": {
          "base_uri": "https://localhost:8080/"
        },
        "id": "Ky2_w78CYnTt",
        "outputId": "ba854278-2e21-4efa-dd3f-619204aab20c"
      },
      "execution_count": 4,
      "outputs": [
        {
          "output_type": "execute_result",
          "data": {
            "text/plain": [
              "2.0"
            ]
          },
          "metadata": {},
          "execution_count": 4
        }
      ]
    },
    {
      "cell_type": "code",
      "source": [
        "math.pi"
      ],
      "metadata": {
        "colab": {
          "base_uri": "https://localhost:8080/"
        },
        "id": "hCyZUrCVYtj3",
        "outputId": "058aa419-3e14-4fa3-ec1c-0119d771be39"
      },
      "execution_count": 5,
      "outputs": [
        {
          "output_type": "execute_result",
          "data": {
            "text/plain": [
              "3.141592653589793"
            ]
          },
          "metadata": {},
          "execution_count": 5
        }
      ]
    },
    {
      "cell_type": "code",
      "source": [
        "math.sin(math.pi/2.0)"
      ],
      "metadata": {
        "colab": {
          "base_uri": "https://localhost:8080/"
        },
        "id": "sqkZexhAY0FI",
        "outputId": "ef19928d-2777-4fd1-89f5-cd6998d6d2f4"
      },
      "execution_count": 6,
      "outputs": [
        {
          "output_type": "execute_result",
          "data": {
            "text/plain": [
              "1.0"
            ]
          },
          "metadata": {},
          "execution_count": 6
        }
      ]
    },
    {
      "cell_type": "code",
      "source": [
        "import random\n",
        "random.random() # 0 이상 1 미만의 임의의 실수를 반환, 매번 다른 실수를 반환"
      ],
      "metadata": {
        "colab": {
          "base_uri": "https://localhost:8080/"
        },
        "id": "UDTpjxPdY7ve",
        "outputId": "06bf9317-1314-428b-dc1a-475ad98bee60"
      },
      "execution_count": 7,
      "outputs": [
        {
          "output_type": "execute_result",
          "data": {
            "text/plain": [
              "0.22241401685566609"
            ]
          },
          "metadata": {},
          "execution_count": 7
        }
      ]
    },
    {
      "cell_type": "code",
      "source": [
        "random.randint(1,7) # 1 이상 7 이하의 임의의 정수를 반환"
      ],
      "metadata": {
        "colab": {
          "base_uri": "https://localhost:8080/"
        },
        "id": "pQc2B-ELZHcu",
        "outputId": "8ce708ad-74ee-42d6-841c-67eda33effba"
      },
      "execution_count": 8,
      "outputs": [
        {
          "output_type": "execute_result",
          "data": {
            "text/plain": [
              "6"
            ]
          },
          "metadata": {},
          "execution_count": 8
        }
      ]
    },
    {
      "cell_type": "code",
      "source": [
        "random.randrange(7) # 0 이상 7 미만의 임의의 정수를 반환"
      ],
      "metadata": {
        "colab": {
          "base_uri": "https://localhost:8080/"
        },
        "id": "fuP-Zl3WZUQD",
        "outputId": "de300a83-e8a4-448d-9288-37530410189b"
      },
      "execution_count": 9,
      "outputs": [
        {
          "output_type": "execute_result",
          "data": {
            "text/plain": [
              "1"
            ]
          },
          "metadata": {},
          "execution_count": 9
        }
      ]
    },
    {
      "cell_type": "code",
      "source": [
        "random.randrange(1,7) # 1 이상 7 미만의 임의의 정수를 반환"
      ],
      "metadata": {
        "colab": {
          "base_uri": "https://localhost:8080/"
        },
        "id": "lMD9EG8aZW2d",
        "outputId": "244d24cd-949a-4587-9379-f1483c339504"
      },
      "execution_count": 10,
      "outputs": [
        {
          "output_type": "execute_result",
          "data": {
            "text/plain": [
              "2"
            ]
          },
          "metadata": {},
          "execution_count": 10
        }
      ]
    },
    {
      "cell_type": "code",
      "source": [
        "random.randrange(0,10,2) # 0,2,4,8 중 하나를 반환"
      ],
      "metadata": {
        "colab": {
          "base_uri": "https://localhost:8080/"
        },
        "id": "CBik4lQSZksp",
        "outputId": "760db9cf-f907-4755-f316-703a6ac83a5f"
      },
      "execution_count": 11,
      "outputs": [
        {
          "output_type": "execute_result",
          "data": {
            "text/plain": [
              "0"
            ]
          },
          "metadata": {},
          "execution_count": 11
        }
      ]
    },
    {
      "cell_type": "code",
      "source": [
        "lst = [10,20,30,40,50] # 여러개의 값을 가지는 리스트를 생성함"
      ],
      "metadata": {
        "id": "otCHMPiCZtMM"
      },
      "execution_count": 12,
      "outputs": []
    },
    {
      "cell_type": "code",
      "source": [
        "random.shuffle(lst) # lst 리스트의 순서를 무작위로 섞음"
      ],
      "metadata": {
        "id": "kaRu2NlIZxXV"
      },
      "execution_count": 13,
      "outputs": []
    },
    {
      "cell_type": "code",
      "source": [
        "lst"
      ],
      "metadata": {
        "colab": {
          "base_uri": "https://localhost:8080/"
        },
        "id": "KLNafKrgZ-SN",
        "outputId": "8a2ccb9d-ecc6-4af9-9a5f-fe1d32df7f3f"
      },
      "execution_count": 14,
      "outputs": [
        {
          "output_type": "execute_result",
          "data": {
            "text/plain": [
              "[30, 10, 50, 20, 40]"
            ]
          },
          "metadata": {},
          "execution_count": 14
        }
      ]
    },
    {
      "cell_type": "code",
      "source": [
        "random.choice(lst) # lst 리스트의 원소 중 무작위로 하나를 고름"
      ],
      "metadata": {
        "colab": {
          "base_uri": "https://localhost:8080/"
        },
        "id": "uoW1UlE8Z_Pm",
        "outputId": "79e0c8d3-6d23-442c-9099-1294a4abc2f0"
      },
      "execution_count": 15,
      "outputs": [
        {
          "output_type": "execute_result",
          "data": {
            "text/plain": [
              "30"
            ]
          },
          "metadata": {},
          "execution_count": 15
        }
      ]
    },
    {
      "cell_type": "code",
      "source": [],
      "metadata": {
        "id": "SF2WcqEkaBF9"
      },
      "execution_count": null,
      "outputs": []
    }
  ]
}