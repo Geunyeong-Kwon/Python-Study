{
  "nbformat": 4,
  "nbformat_minor": 0,
  "metadata": {
    "colab": {
      "provenance": [],
      "authorship_tag": "ABX9TyNcY7yPrjZDPO7DDW8QBr0v",
      "include_colab_link": true
    },
    "kernelspec": {
      "name": "python3",
      "display_name": "Python 3"
    },
    "language_info": {
      "name": "python"
    }
  },
  "cells": [
    {
      "cell_type": "markdown",
      "metadata": {
        "id": "view-in-github",
        "colab_type": "text"
      },
      "source": [
        "<a href=\"https://colab.research.google.com/github/Geunyeong-Kwon/Python-Study/blob/main/%ED%8C%8C%EC%9D%B4%EC%8D%AC6%EC%9E%A5.ipynb\" target=\"_parent\"><img src=\"https://colab.research.google.com/assets/colab-badge.svg\" alt=\"Open In Colab\"/></a>"
      ]
    },
    {
      "cell_type": "markdown",
      "source": [
        "#for문 개념\n",
        "- for 변수 in range(시작값, 끝값+1, 증가값):\n",
        "      이 부분을 반복\n",
        "- for - in 다음에는 리스트나 문자열도 올 수 있다.\n",
        "- _(언더바): i를 사용하지 않으려면 i 대신 _(언더바) 사용\n",
        " "
      ],
      "metadata": {
        "id": "xVGkecsKflU8"
      }
    },
    {
      "cell_type": "markdown",
      "source": [
        "#range 함수\n",
        "- range(3) 함수는 0,1,2까지의 숫자열을 반환한다. 반복할 때마다 변수 i에 이 값들을 대입하면서 문장을 반복한다. 즉 첫번째 반복에서는 isms 0이 되고 두 번째 반복에서는 1이 된다. 마지막 반복에서 i는 2가 된다.\n",
        "- 하나 이상의 반복되는 문장이 올 수 있는데, 반복되는 문장은 if문과 같이 반드시 동일한 간격의 들여쓰기를 해야 한다. 이때 들여쓰기가 있는 문장들만이 반복된다.\n",
        "- 파이썬 쉘에서 range()함수에 list()함수를 적용시키면 range()함수가 생성하는 정수들을 볼 수 있다. 이와 같이 range()함수는 연속적인 값들을 생성하는 일을 한다.\n",
        "- rand()함수는 range()형으 자료형을 반환한다. range()형의 자료형은 호출이 발생할 때마다 매번 연속된 값을 생성하여 반환하는 특별한 일을 한다. 따라서 주로 for문과 함께 사용된다."
      ],
      "metadata": {
        "id": "vUGPGf0IgDdK"
      }
    },
    {
      "cell_type": "markdown",
      "source": [
        "#버그와 디버그\n",
        "- 버그(bug): 프로그래밍에서의 오류\n",
        "- 디버그(debug): 오류를 수정하는 과정\n",
        "- 디버깅(debugging): 코드에서 오류를 만났을 때, 프로그래밍의 잘못을 찾아내고 고치는 것"
      ],
      "metadata": {
        "id": "W6GtfqNoogAX"
      }
    },
    {
      "cell_type": "markdown",
      "source": [
        "#오류의 종류와 해결방법: 문법적 오류\n",
        "- 문법적 오류는 코딩했을 때, 인터프리터가 해석을 못해 코드 자체를 실행시키지 못하는 오류이다.\n",
        "- 대표적으로 들여쓰기 오류와 오탈자로 인한 오류가 있다."
      ],
      "metadata": {
        "id": "WSgQPlZSo12_"
      }
    },
    {
      "cell_type": "markdown",
      "source": [
        "#들여쓰기 오류가 발생하는 이유\n",
        "- (Space)키나 (Tab) 키로 들여쓰기를 하면 들여쓰기 오류가 자주 발생한다. 초기 파이썬으로 코딩할 때는 들여쓰기를 4 스페이스(4 space)로 하는 사람과 (Tab) 키로 하는 사람이 각각 따로 있어 함께 코딩하면 많은 문제가 발생하였다. 하지만 최근에는 이러한 문제가 많이 줄었다.\n"
      ],
      "metadata": {
        "id": "sn0YeYxopXLE"
      }
    },
    {
      "cell_type": "markdown",
      "source": [
        "# 오류의 종류와 해결 방법: 논리적 오류\n",
        "- 프로그램을 작성하다 보면 코드를 제대로 작성했다고 생각했음에도 원하는 결과가 나오지 않는 경우가 종종 있다.\n",
        "- 논리적 오류를 해결하는 방법은 다양한데, 당장 쉽게 사용할 수 있는 방법은 확인이 필요한 변수들에 print()함수를 사용하여 값을 확인하는 것이다."
      ],
      "metadata": {
        "id": "_vq-LquGp8V4"
      }
    },
    {
      "cell_type": "markdown",
      "source": [
        "#함수가 잘 작동하는지 확인하는 방법\n",
        "- 파이썬 셸에서 실행하기\n",
        "- 파일에서 체크할 수 있도록 if __ name__==\"__ main__\":을 써주는 구조로, if문 안에 테스트할 코드 완성하기\n",
        "- if __ name__==\"__ main__\"을 넣는 가장 큰 이유는 해당 파일을 파이썬 셸에서 불러올 import 때 함수 안에 들어 있지 않은 코드들이 작동되지 않게 하기 위해서이다. 만약 해당 구문 없이 printf() 함수로 구문을 작성한다면, 해당 파일을 파이썬 셸에서 호출할 때 그 구문이 화면에 출력되는 것을 확인할 수 있다,\n",
        "- 따라서 어떤 것을 테스트하기 위해서는 반드시 if __ name__==\"__ main__\" 안에 코드를 넣는 것이 좋다."
      ],
      "metadata": {
        "id": "gO06pYt6rcZv"
      }
    }
  ]
}