{
  "nbformat": 4,
  "nbformat_minor": 0,
  "metadata": {
    "colab": {
      "provenance": [],
      "authorship_tag": "ABX9TyNExFDsjEe1m6G288jbjaPV",
      "include_colab_link": true
    },
    "kernelspec": {
      "name": "python3",
      "display_name": "Python 3"
    },
    "language_info": {
      "name": "python"
    }
  },
  "cells": [
    {
      "cell_type": "markdown",
      "metadata": {
        "id": "view-in-github",
        "colab_type": "text"
      },
      "source": [
        "<a href=\"https://colab.research.google.com/github/Geunyeong-Kwon/Python-Study/blob/main/%ED%8C%8C%EC%9D%B4%EC%8D%AC6%EC%9E%A5.ipynb\" target=\"_parent\"><img src=\"https://colab.research.google.com/assets/colab-badge.svg\" alt=\"Open In Colab\"/></a>"
      ]
    },
    {
      "cell_type": "markdown",
      "source": [
        "#for문 개념\n",
        "- for 변수 in range(시작값, 끝값+1, 증가값):\n",
        "      이 부분을 반복\n",
        "- for - in 다음에는 리스트나 문자열도 올 수 있다.\n",
        "- _(언더바): i를 사용하지 않으려면 i 대신 _(언더바) 사용\n",
        " "
      ],
      "metadata": {
        "id": "xVGkecsKflU8"
      }
    },
    {
      "cell_type": "markdown",
      "source": [
        "#range 함수\n",
        "- range(3) 함수는 0,1,2까지의 숫자열을 반환한다. 반복할 때마다 변수 i에 이 값들을 대입하면서 문장을 반복한다. 즉 첫번째 반복에서는 isms 0이 되고 두 번째 반복에서는 1이 된다. 마지막 반복에서 i는 2가 된다.\n",
        "- 하나 이상의 반복되는 문장이 올 수 있는데, 반복되는 문장은 if문과 같이 반드시 동일한 간격의 들여쓰기를 해야 한다. 이때 들여쓰기가 있는 문장들만이 반복된다.\n",
        "- 파이썬 쉘에서 range()함수에 list()함수를 적용시키면 range()함수가 생성하는 정수들을 볼 수 있다. 이와 같이 range()함수는 연속적인 값들을 생성하는 일을 한다.\n",
        "- rand()함수는 range()형으 자료형을 반환한다. range()형의 자료형은 호출이 발생할 때마다 매번 연속된 값을 생성하여 반환하는 특별한 일을 한다. 따라서 주로 for문과 함께 사용된다."
      ],
      "metadata": {
        "id": "vUGPGf0IgDdK"
      }
    }
  ]
}