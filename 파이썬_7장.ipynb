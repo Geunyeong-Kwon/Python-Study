{
  "nbformat": 4,
  "nbformat_minor": 0,
  "metadata": {
    "colab": {
      "provenance": [],
      "authorship_tag": "ABX9TyNreH3i0ivCUohLNTxHvtsj",
      "include_colab_link": true
    },
    "kernelspec": {
      "name": "python3",
      "display_name": "Python 3"
    },
    "language_info": {
      "name": "python"
    }
  },
  "cells": [
    {
      "cell_type": "markdown",
      "metadata": {
        "id": "view-in-github",
        "colab_type": "text"
      },
      "source": [
        "<a href=\"https://colab.research.google.com/github/Geunyeong-Kwon/Python-Study/blob/main/%ED%8C%8C%EC%9D%B4%EC%8D%AC_7%EC%9E%A5.ipynb\" target=\"_parent\"><img src=\"https://colab.research.google.com/assets/colab-badge.svg\" alt=\"Open In Colab\"/></a>"
      ]
    },
    {
      "cell_type": "markdown",
      "source": [
        "#리스트의 개념\n",
        "- 딕셔너리를 활용해 움삭 귱헙울 츌룍허눈 풇구럄\n",
        "- C/c++나 자바 같은 프로그래밍 언어에는 리스트가 없음. 리스트와 비슷한 개념인 배열(Array)을 사용\n",
        "- 리스트는 정수, 문자열, 실수 등 서로 다른 데이터형도 하나로 묶을 수 있지만, 배열은 동일한 데이터형만 묶을 수 있다. 정수 배열은 정수로만 묶어서 사용\n",
        "- 개별적인 값을 하나의 변수에 담아서 처리: 매번 변수의 이름을 작성하고 관리하는 것보다 편리하고 효율적, 한꺼번에 복사하고 조작할 수 있다.\n",
        "- 항목 또는 요소: 리스트를 이루는 원소로 쉼표로 구분된 자료값\n",
        "- 연속적인 자료값들은 score_list라는 변수와 인덱스를 통해서 참조하는 것이 가능\n",
        "- 리스트는 대괄호 [] 내에 쉼표를 이용하여 값을 구분\n",
        "- '세 번째 변수'와 같이 위치를 지정해서 원하는 값을 불러오는 것도 가능"
      ],
      "metadata": {
        "id": "EzuguNvUt3jr"
      }
    },
    {
      "cell_type": "code",
      "source": [
        "score_list=[87.84,95,67,88,94,63]\n",
        "score_list"
      ],
      "metadata": {
        "colab": {
          "base_uri": "https://localhost:8080/"
        },
        "id": "T2qeO55yCOsd",
        "outputId": "b86f2fe3-1b29-47ad-b2d6-025b775968a6"
      },
      "execution_count": 2,
      "outputs": [
        {
          "output_type": "stream",
          "name": "stdout",
          "text": [
            "87.84 88\n"
          ]
        }
      ]
    },
    {
      "cell_type": "code",
      "source": [
        "print(score_list[0],score_list[3])"
      ],
      "metadata": {
        "colab": {
          "base_uri": "https://localhost:8080/"
        },
        "id": "JfidOsI6DRCz",
        "outputId": "8af2ea58-9011-4b5e-abc7-a8d2ff55875c"
      },
      "execution_count": 3,
      "outputs": [
        {
          "output_type": "stream",
          "name": "stdout",
          "text": [
            "87.84 88\n"
          ]
        }
      ]
    },
    {
      "cell_type": "markdown",
      "source": [
        "- "
      ],
      "metadata": {
        "id": "h9nDgY87Dhi4"
      }
    }
  ]
}