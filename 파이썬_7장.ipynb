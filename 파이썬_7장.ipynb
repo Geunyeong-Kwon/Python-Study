{
  "nbformat": 4,
  "nbformat_minor": 0,
  "metadata": {
    "colab": {
      "provenance": [],
      "authorship_tag": "ABX9TyOEM29IcP8JIkRbWtp7OrHT",
      "include_colab_link": true
    },
    "kernelspec": {
      "name": "python3",
      "display_name": "Python 3"
    },
    "language_info": {
      "name": "python"
    }
  },
  "cells": [
    {
      "cell_type": "markdown",
      "metadata": {
        "id": "view-in-github",
        "colab_type": "text"
      },
      "source": [
        "<a href=\"https://colab.research.google.com/github/Geunyeong-Kwon/Python-Study/blob/main/%ED%8C%8C%EC%9D%B4%EC%8D%AC_7%EC%9E%A5.ipynb\" target=\"_parent\"><img src=\"https://colab.research.google.com/assets/colab-badge.svg\" alt=\"Open In Colab\"/></a>"
      ]
    },
    {
      "cell_type": "markdown",
      "source": [
        "#리스트의 개념\n",
        "- 딕셔너리를 활용해 움삭 귱헙울 츌룍허눈 풇구럄\n",
        "- C/c++나 자바 같은 프로그래밍 언어에는 리스트가 없음. 리스트와 비슷한 개념인 배열(Array)을 사용\n",
        "- 리스트는 정수, 문자열, 실수 등 서로 다른 데이터형도 하나로 묶을 수 있지만, 배열은 동일한 데이터형만 묶을 수 있다. 정수 배열은 정수로만 묶어서 사용\n",
        "- 개별적인 값을 하나의 변수에 담아서 처리: 매번 변수의 이름을 작성하고 관리하는 것보다 편리하고 효율적, 한꺼번에 복사하고 조작할 수 있다.\n",
        "- 항목 또는 요소: 리스트를 이루는 원소로 쉼표로 구분된 자료값\n",
        "- 연속적인 자료값들은 score_list라는 변수와 인덱스를 통해서 참조하는 것이 가능\n",
        "- 리스트는 대괄호 [] 내에 쉼표를 이용하여 값을 구분\n",
        "- '세 번째 변수'와 같이 위치를 지정해서 원하는 값을 불러오는 것도 가능"
      ],
      "metadata": {
        "id": "EzuguNvUt3jr"
      }
    },
    {
      "cell_type": "code",
      "source": [
        "score_list=[87.84,95,67,88,94,63]\n",
        "score_list"
      ],
      "metadata": {
        "colab": {
          "base_uri": "https://localhost:8080/"
        },
        "id": "T2qeO55yCOsd",
        "outputId": "b86f2fe3-1b29-47ad-b2d6-025b775968a6"
      },
      "execution_count": 2,
      "outputs": [
        {
          "output_type": "stream",
          "name": "stdout",
          "text": [
            "87.84 88\n"
          ]
        }
      ]
    },
    {
      "cell_type": "code",
      "source": [
        "print(score_list[0],score_list[3])"
      ],
      "metadata": {
        "colab": {
          "base_uri": "https://localhost:8080/"
        },
        "id": "JfidOsI6DRCz",
        "outputId": "8af2ea58-9011-4b5e-abc7-a8d2ff55875c"
      },
      "execution_count": 3,
      "outputs": [
        {
          "output_type": "stream",
          "name": "stdout",
          "text": [
            "87.84 88\n"
          ]
        }
      ]
    },
    {
      "cell_type": "markdown",
      "source": [
        "#리스트 객체에 대한 methods\n",
        "- append(): 리스트 맨 뒤에 항목을 추가 ex) 리스트명.append(값)\n",
        "- pop(): 리스트 맨 뒤의 항목을 빼낸다(리스트에서 해당 항목이 삭제된다.) ex) 리스트명.pop()\n",
        "- sort(): 리스트의 항목을 정렬한다. ex) 리스트명.sort()\n",
        "- reverse(): 리스트 항목의 순서를 역순으로 한다. ex) 리스트명.reverse()\n",
        "- index(): 지정한 값을 찾아 해당 위치를 반환한다. ex) 리스트명.index(찾을값)\n",
        "- insert(): 지정한 위치에 값을 선언한다. ex)리스트명.insert(위치,값)\n",
        "- remove(): 리스트에서 지정한 값을 삭제한다. 단, 지정한 값이 여러 개면 첫번째 값만 지운다. ex) 리스트명.remove()\n",
        "- extend(): 리스트 뒤에 리스트를 추가한다. 리스트의 더하기(+) 연산과 기능이 동일하다. ex) 리스트명.extend(추가할 리스트)\n",
        "- count(): 리스트에서 해당 값의 개수를 센다. ex) 리스트명.count(찾을값)\n",
        "- clear(): 리스트의 내용을 모두 지운다. ex) 리스트명.clear()\n",
        "- del(): 리스트에서 해당 위치의 항목을 삭제한다. ex) del(리스트명[위치])\n",
        "- len(): 리스트에 포함된 전체 항목의 개수를 센다. ex) len(리스트명)\n",
        "- copy(): 리스트의 내용을 새로운 리스트에 복사한다. ex) 새리스트=리스트명.copy()\n",
        "- sorted(): 리스트의 항목을 정렬해서 새로운 리스트에 대입한다. ex)새리스트=sorted(리스트)"
      ],
      "metadata": {
        "id": "h9nDgY87Dhi4"
      }
    },
    {
      "cell_type": "markdown",
      "source": [
        "#Built-in functions for List\n",
        "-len(list): 리스트 길이\n",
        "-max(list): 최대 요소\n",
        "- min(list): 최소 요소\n",
        "- list(seq): 리스트로 변환\n",
        "- cmp(list1,list2): 리스트 간 비교(only for python 2.x version)\n"
      ],
      "metadata": {
        "id": "GkZtaIDYJflR"
      }
    },
    {
      "cell_type": "markdown",
      "source": [
        "#List methods\n",
        "- list.append(obj): 요소 추가\n",
        "- list.extend(seq): 리스트 추가\n",
        "- list.count(obj): 요소 개수\n",
        "- list.index(obj): 요소 위치 index\n",
        "- list.insert(index,obj): index 위치에 obj 삽입\n",
        "- list.pop(obj=list[-1]): 마지막 요소 제거\n",
        "- list.remove(obj): obj 객체 제거\n",
        "- list.reverse(): 거꾸로 뒤집기\n",
        "- list.sort(obj): 정렬(디폴트 오름차순)"
      ],
      "metadata": {
        "id": "_xIDxz9zJl8y"
      }
    },
    {
      "cell_type": "markdown",
      "source": [
        "#append() VS extend()\n",
        "- 만일 아래의 list1에 append()를 시도하게 되면 우리가 흔히 생각하는 [11,22,33,44,55,66]의 결과가 나오지 않는다. list1.append([55,66]) 메소드를 호출하면 [55,66]이라는 리스트 항목을 [11,22,33,44] 다음에 추가하여 list1은 [11,22,33,44,[55,66]]이라는 항목을 가지게 된다.\n",
        "- 만일 리스트 내에 새로운 리스트의 항목을 추가하고자 할 경우에는 extend() 메소드를 사용할 수 있다. 다음과 같은 프로그램을 작성하여 수행해 보자."
      ],
      "metadata": {
        "id": "o4AP7vm2LCpL"
      }
    },
    {
      "cell_type": "code",
      "source": [
        "list1=[11,22,33,44]\n",
        "list1.append([55,66])\n",
        "list1"
      ],
      "metadata": {
        "colab": {
          "base_uri": "https://localhost:8080/"
        },
        "id": "UbXwcKtLLjSV",
        "outputId": "68c38384-99fd-4aa0-f563-02601c88b7e9"
      },
      "execution_count": 4,
      "outputs": [
        {
          "output_type": "execute_result",
          "data": {
            "text/plain": [
              "[11, 22, 33, 44, [55, 66]]"
            ]
          },
          "metadata": {},
          "execution_count": 4
        }
      ]
    },
    {
      "cell_type": "code",
      "source": [
        "list1=[11,22,33,44]\n",
        "list1.extend([55,66])\n",
        "list1"
      ],
      "metadata": {
        "colab": {
          "base_uri": "https://localhost:8080/"
        },
        "id": "L3TXqWRBMIcT",
        "outputId": "2d49a868-dcdd-42e8-827c-31c93ec52066"
      },
      "execution_count": 5,
      "outputs": [
        {
          "output_type": "execute_result",
          "data": {
            "text/plain": [
              "[11, 22, 33, 44, 55, 66]"
            ]
          },
          "metadata": {},
          "execution_count": 5
        }
      ]
    },
    {
      "cell_type": "markdown",
      "source": [
        "#리스트 내의 항목을 지우는 방법\n",
        "- 파이썬 키워드 del 사용(명령어임)\n",
        "- 리스트 클래스에 있는 remove()라는 메소드 사용\n",
        "- pop() 메소드 사용: 리스트의 특정 위치에 있는 항목을 삭제함과 동시에 이 항목을 반환"
      ],
      "metadata": {
        "id": "EFw32_scLt4F"
      }
    },
    {
      "cell_type": "markdown",
      "source": [
        "#멤버 연산자: in, not in\n",
        "- 멤버 연산자는 참(True) 혹은 거짓(False)를 반환하는 연산자\n",
        "- 특정한 원소가 문자열, 리스트, 튜플과 같은 자료구조의 내부에 포함되어 있는가를 검사하는 용도로 사용됨\n",
        "- 존재하지 않는 항목을 remove()로 삭제하려면 오류가 발생함: 존재 여부를 미리 확인"
      ],
      "metadata": {
        "id": "KBSO1r7XPvBj"
      }
    },
    {
      "cell_type": "markdown",
      "source": [
        "#리스트에 적용되는 내장 함수\n",
        "- min(), max(), sum()과 같은 파이썬 내장함수의 인자로 리스트를 넘겨주면 각각 리스트 안의 최솟값, 최대값, 합 연산 가능\n",
        "- len()함수는 리스트 내 항목의 개수를 반환\n"
      ],
      "metadata": {
        "id": "mME6VvLdQItI"
      }
    },
    {
      "cell_type": "markdown",
      "source": [
        "#리스트의 슬라이싱\n",
        "- 슬라이싱: 리스트 내의 항목을 특정한 구간별로 선택하여 잘라내는 기능\n",
        "- 구간을 명시하기 위해 리스트_이름[start:end] 문법 사용\n",
        "- end-1까지의 항목을 새 리스트에 삽입\n",
        "- 콜론(:)을 사용하여 가져올 항목의 범위를 지정\n",
        "- 시작 인덱스와 끝 인덱스는 생략 가능\n",
        "- 슬라이싱을 할 때 콜론(:) 뒤에 명시한 마지막 인덱스는 슬라이싱 리스트에 포함하지 않는다는 것을 항상 기억하자.\n"
      ],
      "metadata": {
        "id": "vI8aR_J4QuQP"
      }
    },
    {
      "cell_type": "markdown",
      "source": [
        "#파이썬의 슬라이싱 기능은 음수 인덱스와 음수 스텝 값을 지원\n",
        "- a_list[start:end] : start부터 (end-1)까지의 항목들을 슬라이싱(end 인덱스의 항목은 포함하지 않음)\n",
        "- a_list[start:] : start부터 리스트의 끝까지, 즉 뒷부분 모두를 슬라이싱\n",
        "- a_list[:end] : 처음부터 end-1까지를 step만큼 건너뛰며 슬라이싱\n",
        "- a_list[start:end:step] : start부터 end-1까지를 step만큼 건너뛰며 슬라이싱\n",
        "- a_list[-2:] : 뒤에서부터 두 개의 항목을 슬라이싱\n",
        "- a_list[:-2] : 처음부터 끝의 두 개를 제외한 모든 항목을 슬라이싱\n",
        "- a_list[::-1] : 모든 항목을 가져오되 역순으로 슬라이싱\n",
        "- a_list[1::-1] : 처음의 두 개 항목만 슬라이싱 "
      ],
      "metadata": {
        "id": "vVlCrWojRSKF"
      }
    }
  ]
}