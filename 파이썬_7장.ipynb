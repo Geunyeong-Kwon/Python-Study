{
  "nbformat": 4,
  "nbformat_minor": 0,
  "metadata": {
    "colab": {
      "provenance": [],
      "authorship_tag": "ABX9TyPE5EKTPGwI9uMGI0dncIKI",
      "include_colab_link": true
    },
    "kernelspec": {
      "name": "python3",
      "display_name": "Python 3"
    },
    "language_info": {
      "name": "python"
    }
  },
  "cells": [
    {
      "cell_type": "markdown",
      "metadata": {
        "id": "view-in-github",
        "colab_type": "text"
      },
      "source": [
        "<a href=\"https://colab.research.google.com/github/Geunyeong-Kwon/Python-Study/blob/main/%ED%8C%8C%EC%9D%B4%EC%8D%AC_7%EC%9E%A5.ipynb\" target=\"_parent\"><img src=\"https://colab.research.google.com/assets/colab-badge.svg\" alt=\"Open In Colab\"/></a>"
      ]
    },
    {
      "cell_type": "markdown",
      "source": [
        "#리스트의 개념\n",
        "- 딕셔너리를 활용해 움삭 귱헙울 츌룍허눈 풇구럄\n",
        "- C/c++나 자바 같은 프로그래밍 언어에는 리스트가 없음. 리스트와 비슷한 개념인 배열(Array)을 사용\n",
        "- 리스트는 정수, 문자열, 실수 등 서로 다른 데이터형도 하나로 묶을 수 있지만, 배열은 동일한 데이터형만 묶을 수 있다. 정수 배열은 정수로만 묶어서 사용\n",
        "- 개별적인 값을 하나의 변수에 담아서 처리: 매번 변수의 이름을 작성하고 관리하는 것보다 편리하고 효율적, 한꺼번에 복사하고 조작할 수 있다.\n",
        "- 항목 또는 요소: 리스트를 이루는 원소로 쉼표로 구분된 자료값\n",
        "- 연속적인 자료값들은 score_list라는 변수와 인덱스를 통해서 참조하는 것이 가능\n",
        "- 리스트는 대괄호 [] 내에 쉼표를 이용하여 값을 구분\n",
        "- '세 번째 변수'와 같이 위치를 지정해서 원하는 값을 불러오는 것도 가능"
      ],
      "metadata": {
        "id": "EzuguNvUt3jr"
      }
    },
    {
      "cell_type": "code",
      "source": [
        "score_list=[87.84,95,67,88,94,63]\n",
        "score_list"
      ],
      "metadata": {
        "colab": {
          "base_uri": "https://localhost:8080/"
        },
        "id": "T2qeO55yCOsd",
        "outputId": "b86f2fe3-1b29-47ad-b2d6-025b775968a6"
      },
      "execution_count": 2,
      "outputs": [
        {
          "output_type": "stream",
          "name": "stdout",
          "text": [
            "87.84 88\n"
          ]
        }
      ]
    },
    {
      "cell_type": "code",
      "source": [
        "print(score_list[0],score_list[3])"
      ],
      "metadata": {
        "colab": {
          "base_uri": "https://localhost:8080/"
        },
        "id": "JfidOsI6DRCz",
        "outputId": "8af2ea58-9011-4b5e-abc7-a8d2ff55875c"
      },
      "execution_count": 3,
      "outputs": [
        {
          "output_type": "stream",
          "name": "stdout",
          "text": [
            "87.84 88\n"
          ]
        }
      ]
    },
    {
      "cell_type": "markdown",
      "source": [
        "#리스트 객체에 대한 methods\n",
        "- append(): 리스트 맨 뒤에 항목을 추가 ex) 리스트명.append(값)\n",
        "- pop(): 리스트 맨 뒤의 항목을 빼낸다(리스트에서 해당 항목이 삭제된다.) ex) 리스트명.pop()\n",
        "- sort(): 리스트의 항목을 정렬한다. ex) 리스트명.sort()\n",
        "- reverse(): 리스트 항목의 순서를 역순으로 한다. ex) 리스트명.reverse()\n",
        "- index(): 지정한 값을 찾아 해당 위치를 반환한다. ex) 리스트명.index(찾을값)\n",
        "- insert(): 지정한 위치에 값을 선언한다. ex)리스트명.insert(위치,값)\n",
        "- remove(): 리스트에서 지정한 값을 삭제한다. 단, 지정한 값이 여러 개면 첫번째 값만 지운다. ex) 리스트명.remove()\n",
        "- extend(): 리스트 뒤에 리스트를 추가한다. 리스트의 더하기(+) 연산과 기능이 동일하다. ex) 리스트명.extend(추가할 리스트)\n",
        "- count(): 리스트에서 해당 값의 개수를 센다. ex) 리스트명.count(찾을값)\n",
        "- clear(): 리스트의 내용을 모두 지운다. ex) 리스트명.clear()\n",
        "- del(): 리스트에서 해당 위치의 항목을 삭제한다. ex) del(리스트명[위치])\n",
        "- len(): 리스트에 포함된 전체 항목의 개수를 센다. ex) len(리스트명)\n",
        "- copy(): 리스트의 내용을 새로운 리스트에 복사한다. ex) 새리스트=리스트명.copy()\n",
        "- sorted(): 리스트의 항목을 정렬해서 새로운 리스트에 대입한다. ex)새리스트=sorted(리스트)"
      ],
      "metadata": {
        "id": "h9nDgY87Dhi4"
      }
    },
    {
      "cell_type": "markdown",
      "source": [
        "#Built-in functions for List\n",
        "-len(list): 리스트 길이\n",
        "-max(list): 최대 요소\n",
        "- min(list): 최소 요소\n",
        "- list(seq): 리스트로 변환\n",
        "- cmp(list1,list2): 리스트 간 비교(only for python 2.x version)\n"
      ],
      "metadata": {
        "id": "GkZtaIDYJflR"
      }
    },
    {
      "cell_type": "markdown",
      "source": [
        "#List methods\n",
        "- list.append(obj): 요소 추가\n",
        "- list.extend(seq): 리스트 추가\n",
        "- list.count(obj): 요소 개수\n",
        "- list.index(obj): 요소 위치 index\n",
        "- list.insert(index,obj): index 위치에 obj 삽입\n",
        "- list.pop(obj=list[-1]): 마지막 요소 제거\n",
        "- list.remove(obj): obj 객체 제거\n",
        "- list.reverse(): 거꾸로 뒤집기\n",
        "- list.sort(obj): 정렬(디폴트 오름차순)"
      ],
      "metadata": {
        "id": "_xIDxz9zJl8y"
      }
    },
    {
      "cell_type": "markdown",
      "source": [
        "#append() VS extend()\n",
        "- 만일 아래의 list1에 append()를 시도하게 되면 우리가 흔히 생각하는 [11,22,33,44,55,66]의 결과가 나오지 않는다. list1.append([55,66]) 메소드를 호출하면 [55,66]이라는 리스트 항목을 [11,22,33,44] 다음에 추가하여 list1은 [11,22,33,44,[55,66]]이라는 항목을 가지게 된다.\n",
        "- 만일 리스트 내에 새로운 리스트의 항목을 추가하고자 할 경우에는 extend() 메소드를 사용할 수 있다. 다음과 같은 프로그램을 작성하여 수행해 보자."
      ],
      "metadata": {
        "id": "o4AP7vm2LCpL"
      }
    },
    {
      "cell_type": "code",
      "source": [
        "list1=[11,22,33,44]\n",
        "list1.append([55,66])\n",
        "list1"
      ],
      "metadata": {
        "colab": {
          "base_uri": "https://localhost:8080/"
        },
        "id": "UbXwcKtLLjSV",
        "outputId": "68c38384-99fd-4aa0-f563-02601c88b7e9"
      },
      "execution_count": 4,
      "outputs": [
        {
          "output_type": "execute_result",
          "data": {
            "text/plain": [
              "[11, 22, 33, 44, [55, 66]]"
            ]
          },
          "metadata": {},
          "execution_count": 4
        }
      ]
    },
    {
      "cell_type": "code",
      "source": [
        "list1=[11,22,33,44]\n",
        "list1.extend([55,66])\n",
        "list1"
      ],
      "metadata": {
        "colab": {
          "base_uri": "https://localhost:8080/"
        },
        "id": "L3TXqWRBMIcT",
        "outputId": "2d49a868-dcdd-42e8-827c-31c93ec52066"
      },
      "execution_count": 5,
      "outputs": [
        {
          "output_type": "execute_result",
          "data": {
            "text/plain": [
              "[11, 22, 33, 44, 55, 66]"
            ]
          },
          "metadata": {},
          "execution_count": 5
        }
      ]
    },
    {
      "cell_type": "markdown",
      "source": [],
      "metadata": {
        "id": "EFw32_scLt4F"
      }
    }
  ]
}