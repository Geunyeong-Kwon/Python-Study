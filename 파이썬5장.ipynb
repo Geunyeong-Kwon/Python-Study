{
  "nbformat": 4,
  "nbformat_minor": 0,
  "metadata": {
    "colab": {
      "provenance": [],
      "authorship_tag": "ABX9TyNEcvlMZE8X5HxfKCZXPcRz",
      "include_colab_link": true
    },
    "kernelspec": {
      "name": "python3",
      "display_name": "Python 3"
    },
    "language_info": {
      "name": "python"
    }
  },
  "cells": [
    {
      "cell_type": "markdown",
      "metadata": {
        "id": "view-in-github",
        "colab_type": "text"
      },
      "source": [
        "<a href=\"https://colab.research.google.com/github/Geunyeong-Kwon/Python-Study/blob/main/%ED%8C%8C%EC%9D%B4%EC%8D%AC5%EC%9E%A5.ipynb\" target=\"_parent\"><img src=\"https://colab.research.google.com/assets/colab-badge.svg\" alt=\"Open In Colab\"/></a>"
      ]
    },
    {
      "cell_type": "markdown",
      "source": [
        "#if문\n",
        "- 파이썬은 들여쓰기가 매우 중요\n",
        "- if문 다음에 '실행할 문장'은 if문 다음 줄에서 들여쓰기를 해서 작성\n",
        "- 들여쓰기 할 때는 Tab보다 Space Bar를 눌러 4칸 정도로 들여쓰기 권장\n",
        "- 대화형 모드에서는 '실행할 문장' 모두 끝나고 Enter 2번 눌러야 if문이 끝나는 것으로 간주"
      ],
      "metadata": {
        "id": "L3vg5oa3aplW"
      }
    },
    {
      "cell_type": "markdown",
      "source": [
        "#조건의 판단: 비교 연산자\n",
        "- 비교 연산자(또는 조건 연산자): 어떤 것이 큰지 작은지 같은지를 비교하는 것으로, 그 결과는 참(True)이나 거짓(False)이 된다.\n",
        "- 같음을 의미하는 = 연산자와 비교하여, 할당의 의미로 같음을 표현할 때는 ==과 같은 새로운 연산자를 사용한다.\n",
        "- is 연산자는 ==처럼 두 변수가 같음을 비교하지만, ==과 다르게 메모리의 주소를 비교한다.\n",
        "- 파이썬은 처음 인터프리터를 싲가할 때 -5 ~ 256까지 변하지 않는 메모리(정적 메모리) 주소에 값을 할당한다. 그리고 해당 값을 다른 변수가 사용할 떄, 그 메모리 주소를 반환한다.\n",
        "- Python은 C언어와 달리 포인터라는 개념이 없다. 하지만 내부적으로는 메모리를 사용하고, 이에 대한 주소 정보를 가지고 있음\n",
        "- Python에서 해당 메모리 주소는 변수를 구별하기 위한 용도로 사용하고 있음\n",
        "- Python의 built-in 함수 중 id()를 이용하면 현재 확인하고자 하는 변수의 메모리 주소를 확인할 수 있다.(CPython의 경우 메모리 주소를 반환하지만, 다른 파이썬 인터프리터는 메모리 주소 이외의 다른 값을 반환할 수 있음)"
      ],
      "metadata": {
        "id": "Aj7S3GOpbH7o"
      }
    },
    {
      "cell_type": "markdown",
      "source": [
        "#조건의 판단: True와 False의 치환\n",
        "- 컴퓨터는 기본적으로 이진수만 처리할 수 있으며, True는 1로, False는 0으로 치환한다.\n",
        "- 아래 코드를 실행하면 True가 출력된다. 그 이유는 앞서 설명한 것처럼 컴퓨터는 존재하면 True, 존재하지 않으면 False로 처리하기 때문이다."
      ],
      "metadata": {
        "id": "VT_MXT6Qcdnp"
      }
    },
    {
      "cell_type": "markdown",
      "source": [
        "#조건의 판단: 논리 연산자\n",
        "- and: 두 값이 모두 참일 경우 True, 그렇지 않을 경우 False\n",
        "- or: 두 값 중 하나만 참일 경우 True, 두 값 모두 거짓일 경우 False\n",
        "- not: 값을 역으로 반환하여 판단"
      ],
      "metadata": {
        "id": "gTNZHIYgc0hn"
      }
    },
    {
      "cell_type": "markdown",
      "source": [
        "#"
      ],
      "metadata": {
        "id": "_uaSBCPQb7HP"
      }
    }
  ]
}