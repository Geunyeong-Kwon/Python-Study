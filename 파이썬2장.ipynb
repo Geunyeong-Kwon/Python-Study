{
  "nbformat": 4,
  "nbformat_minor": 0,
  "metadata": {
    "colab": {
      "provenance": [],
      "authorship_tag": "ABX9TyOc6dFPgmp9xcxW8fme7yK0",
      "include_colab_link": true
    },
    "kernelspec": {
      "name": "python3",
      "display_name": "Python 3"
    },
    "language_info": {
      "name": "python"
    }
  },
  "cells": [
    {
      "cell_type": "markdown",
      "metadata": {
        "id": "view-in-github",
        "colab_type": "text"
      },
      "source": [
        "<a href=\"https://colab.research.google.com/github/Geunyeong-Kwon/Python-Study/blob/main/%ED%8C%8C%EC%9D%B4%EC%8D%AC2%EC%9E%A5.ipynb\" target=\"_parent\"><img src=\"https://colab.research.google.com/assets/colab-badge.svg\" alt=\"Open In Colab\"/></a>"
      ]
    },
    {
      "cell_type": "code",
      "execution_count": 2,
      "metadata": {
        "colab": {
          "base_uri": "https://localhost:8080/"
        },
        "id": "9il_YMi7t8j_",
        "outputId": "102e2028-1fe6-45a5-863a-05971a608e3d"
      },
      "outputs": [
        {
          "output_type": "stream",
          "name": "stdout",
          "text": [
            "150\n",
            "100 + 50 = 150\n",
            "100 - 50 = 50\n",
            "100 / 50 = 2.0\n"
          ]
        }
      ],
      "source": [
        "#빼기, 곱하기, 나누기 기능 구현\n",
        "a = 100\n",
        "b = 50\n",
        "result = a + b\n",
        "print(result)\n",
        "print(a,'+',b,'=',result)\n",
        "result = a - b\n",
        "print(a,'-',b,'=',result)\n",
        "result = a / b\n",
        "print(a,'/',b,'=',result)\n"
      ]
    },
    {
      "cell_type": "code",
      "source": [
        "print(\"하나\",\"둘\",\"셋\",1,2,3)\n",
        "print(\"하나\",\"둘\",\"셋\",1,2,3,sep='-')\n",
        "print(\"첫번째 값\")\n",
        "print(\"두번째 값\")\n",
        "print(\"첫번째 값\",end=\" ---> \")\n",
        "print(\"두번째 값\")\n"
      ],
      "metadata": {
        "colab": {
          "base_uri": "https://localhost:8080/"
        },
        "id": "EPAXsqelwI-S",
        "outputId": "dadff0d2-c59a-4f16-faae-f8056ba46c58"
      },
      "execution_count": 4,
      "outputs": [
        {
          "output_type": "stream",
          "name": "stdout",
          "text": [
            "하나 둘 셋 1 2 3\n",
            "하나-둘-셋-1-2-3\n",
            "첫번째 값\n",
            "두번째 값\n",
            "첫번째 값 ---> 두번째 값\n"
          ]
        }
      ]
    },
    {
      "cell_type": "code",
      "source": [
        "#표준 입력\n",
        "data = input(\"실수를 입력하시오 : \")\n",
        "print(data,type(data))\n",
        "#에러 문자열과 실수를 +(더하기)할 수 없습니다.\n",
        "#print(data,type(datda).data+1.2)\n",
        "\n",
        "data = eval(input(\"실수를 입력하시오 : \")) # eval() 함수: 인수를 유효한 파이썬 표현식으로 리턴함\n",
        "print(data,type(data),data+1.2)\n",
        "\n",
        "data = float(input('정수를 입력하시오 : ')) #float 클래스: class float(x) --> 숫자나 문자열 x로부터 만들어진 실수 객체를 return 함, 인자가 주어지지 않으면 0을 리턴함.\n",
        "print(data,type(data),data+1.2)"
      ],
      "metadata": {
        "colab": {
          "base_uri": "https://localhost:8080/"
        },
        "id": "mrpLNXDGxQtD",
        "outputId": "d6a9196f-80d0-4bcd-afa4-86aa2ea5f661"
      },
      "execution_count": 5,
      "outputs": [
        {
          "output_type": "stream",
          "name": "stdout",
          "text": [
            "실수를 입력하시오 : 3.14\n",
            "3.14 <class 'str'>\n",
            "실수를 입력하시오 : 3.14\n",
            "3.14 <class 'float'> 4.34\n",
            "정수를 입력하시오 : 3.14\n",
            "3.14 <class 'float'> 4.34\n"
          ]
        }
      ]
    },
    {
      "cell_type": "code",
      "source": [],
      "metadata": {
        "id": "V7FZ2WmDyXxF"
      },
      "execution_count": null,
      "outputs": []
    }
  ]
}